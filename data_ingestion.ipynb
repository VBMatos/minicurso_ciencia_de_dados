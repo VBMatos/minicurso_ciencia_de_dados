{
 "cells": [
  {
   "cell_type": "code",
   "execution_count": 1,
   "id": "f366f3dc",
   "metadata": {},
   "outputs": [],
   "source": [
    "from common import ingest_ibge_data, ingest_cad_unico_data, ingest_data_dictionary"
   ]
  },
  {
   "cell_type": "code",
   "execution_count": 2,
   "id": "9a46903c",
   "metadata": {},
   "outputs": [
    {
     "name": "stderr",
     "output_type": "stream",
     "text": [
      "2025-06-26 22:15:49,211 - INFO - Ingesting IBGE data...\n",
      "2025-06-26 22:15:49,218 - INFO - Downloading IBGE data...\n",
      "2025-06-26 22:15:50,380 - INFO - IBGE data downloaded successfully.\n",
      "2025-06-26 22:15:50,566 - INFO - Connected to database: database.duckdb\n",
      "2025-06-26 22:15:50,601 - INFO - Executing query...\n",
      "2025-06-26 22:15:51,084 - INFO - Query executed successfully\n",
      "2025-06-26 22:15:51,132 - INFO - IBGE data ingested successfully.\n"
     ]
    }
   ],
   "source": [
    "ingest_ibge_data()"
   ]
  },
  {
   "cell_type": "code",
   "execution_count": 3,
   "id": "4518107a",
   "metadata": {},
   "outputs": [
    {
     "name": "stderr",
     "output_type": "stream",
     "text": [
      "2025-06-26 22:15:54,772 - INFO - Ingesting CAD Unico data...\n",
      "2025-06-26 22:15:54,776 - INFO - Downloading CAD Unico data...\n",
      "2025-06-26 22:15:55,578 - INFO - CAD Unico data downloaded successfully.\n",
      "2025-06-26 22:15:55,581 - INFO - Saving CAD Unico data to disk...\n",
      "2025-06-26 22:22:47,449 - INFO - CAD Unico data saved successfully.\n",
      "2025-06-26 22:22:47,453 - INFO - Extracting CAD Unico data...\n",
      "2025-06-26 22:23:22,766 - INFO - CAD Unico data extracted successfully.\n",
      "2025-06-26 22:23:22,769 - INFO - Cleaning CAD Unico CSV files...\n",
      "2025-06-26 22:23:22,769 - INFO - Cleaning CSV file: data/base_amostra_cad_201812/base_amostra_pessoa_201812.csv\n",
      "2025-06-26 22:23:22,772 - INFO - Cleaning CSV file: data/base_amostra_cad_201812/base_amostra_familia_201812.csv\n",
      "2025-06-26 22:26:53,108 - INFO - CSV file cleaned successfully: data/base_amostra_cad_201812/base_amostra_familia_201812.csv\n",
      "2025-06-26 22:28:53,394 - INFO - CSV file cleaned successfully: data/base_amostra_cad_201812/base_amostra_pessoa_201812.csv\n",
      "2025-06-26 22:28:53,396 - INFO - CAD Unico CSV files cleaned successfully.\n",
      "2025-06-26 22:28:53,428 - INFO - Connected to database: database.duckdb\n",
      "2025-06-26 22:28:53,453 - INFO - Executing query...\n"
     ]
    },
    {
     "data": {
      "application/vnd.jupyter.widget-view+json": {
       "model_id": "46a002b6ecbb442fb3b8512b5fcb425d",
       "version_major": 2,
       "version_minor": 0
      },
      "text/plain": [
       "FloatProgress(value=0.0, layout=Layout(width='auto'), style=ProgressStyle(bar_color='black'))"
      ]
     },
     "metadata": {},
     "output_type": "display_data"
    },
    {
     "name": "stderr",
     "output_type": "stream",
     "text": [
      "2025-06-26 22:29:30,160 - INFO - Query executed successfully\n",
      "2025-06-26 22:29:30,254 - INFO - Executing query...\n"
     ]
    },
    {
     "data": {
      "application/vnd.jupyter.widget-view+json": {
       "model_id": "e7e886fe5357453fb4d942f904231308",
       "version_major": 2,
       "version_minor": 0
      },
      "text/plain": [
       "FloatProgress(value=0.0, layout=Layout(width='auto'), style=ProgressStyle(bar_color='black'))"
      ]
     },
     "metadata": {},
     "output_type": "display_data"
    },
    {
     "name": "stderr",
     "output_type": "stream",
     "text": [
      "2025-06-26 22:29:44,680 - INFO - Query executed successfully\n",
      "2025-06-26 22:29:44,741 - INFO - CAD Unico data ingested successfully.\n"
     ]
    }
   ],
   "source": [
    "ingest_cad_unico_data()"
   ]
  },
  {
   "cell_type": "code",
   "execution_count": 4,
   "id": "ae8642df",
   "metadata": {},
   "outputs": [
    {
     "name": "stderr",
     "output_type": "stream",
     "text": [
      "2025-06-26 22:30:28,136 - INFO - Ingesting CAD Unico data dictionary...\n",
      "2025-06-26 22:30:28,138 - INFO - Downloading data dictionary...\n",
      "2025-06-26 22:30:30,413 - INFO - Data dictionary downloaded successfully.\n",
      "2025-06-26 22:30:30,415 - INFO - Cleaning Excel file: data/Dicionario_base_identificada_pt_R03.xlsx\n",
      "2025-06-26 22:30:38,312 - INFO - Excel file cleaned successfully: data/Dicionario_base_identificada_pt_R03.xlsx\n"
     ]
    }
   ],
   "source": [
    "ingest_data_dictionary()"
   ]
  }
 ],
 "metadata": {
  "kernelspec": {
   "display_name": "Python 3",
   "language": "python",
   "name": "python3"
  },
  "language_info": {
   "codemirror_mode": {
    "name": "ipython",
    "version": 3
   },
   "file_extension": ".py",
   "mimetype": "text/x-python",
   "name": "python",
   "nbconvert_exporter": "python",
   "pygments_lexer": "ipython3",
   "version": "3.13.3"
  }
 },
 "nbformat": 4,
 "nbformat_minor": 5
}
